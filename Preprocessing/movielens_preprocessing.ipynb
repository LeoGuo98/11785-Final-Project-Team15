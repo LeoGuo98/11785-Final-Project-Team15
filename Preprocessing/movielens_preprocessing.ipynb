{
  "nbformat": 4,
  "nbformat_minor": 0,
  "metadata": {
    "colab": {
      "name": "movielens_preprocessing.ipynb",
      "provenance": []
    },
    "kernelspec": {
      "name": "python3",
      "display_name": "Python 3"
    },
    "language_info": {
      "name": "python"
    }
  },
  "cells": [
    {
      "cell_type": "code",
      "metadata": {
        "id": "wMOMXrUdT3qC"
      },
      "source": [
        "with open('ratings.dat') as f:\n",
        "    lines = f.readlines()\n",
        "user_history = {}\n",
        "for line in lines:\n",
        "    data = line.strip().split(\"::\")\n",
        "    user_id = data[0]\n",
        "    movie_id = data[1]\n",
        "    time_stamp = int(data[3])\n",
        "    if user_id in user_history:\n",
        "        user_history[user_id].append((time_stamp, movie_id))\n",
        "    else:\n",
        "        user_history[user_id] = [(time_stamp, movie_id)]\n",
        "\n",
        "for s in user_history.keys():\n",
        "    l = sorted(user_history[s])\n",
        "    user_history[s] = l\n"
      ],
      "execution_count": null,
      "outputs": []
    },
    {
      "cell_type": "code",
      "metadata": {
        "id": "bdM9obWzemus"
      },
      "source": [
        "import time\n",
        "import csv\n",
        "import pickle\n",
        "\n",
        "import operator\n",
        "#one hour session or one day\n",
        "session_threshold = 86400 #3600"
      ],
      "execution_count": null,
      "outputs": []
    },
    {
      "cell_type": "code",
      "metadata": {
        "id": "hrAFAT_memy1"
      },
      "source": [
        "def extract_session(user_his, threshold):\n",
        "    result = []\n",
        "    session = []\n",
        "    start_time = user_his[0][0]\n",
        "    for i in range(len(user_his)):\n",
        "        time = user_his[i][0]\n",
        "        if time - start_time <= threshold:\n",
        "            session.append(user_his[i])\n",
        "        else:\n",
        "            result.append(session)\n",
        "            session = [user_his[i]]\n",
        "            start_time = user_his[i][0]\n",
        "    if session not in result:\n",
        "        result.append(session)\n",
        "    return result"
      ],
      "execution_count": null,
      "outputs": []
    },
    {
      "cell_type": "code",
      "metadata": {
        "id": "4K_jULgVhPjY"
      },
      "source": [
        "session = []\n",
        "for i in user_history.keys():\n",
        "    session += extract_session(user_history[i], session_threshold)"
      ],
      "execution_count": null,
      "outputs": []
    },
    {
      "cell_type": "code",
      "metadata": {
        "id": "kxX6yXz9l4vy"
      },
      "source": [
        "filtered_session = []\n",
        "for s in session:\n",
        "    if 2 <= len(s) and len(s) <= 50:\n",
        "        filtered_session.append(s)"
      ],
      "execution_count": null,
      "outputs": []
    },
    {
      "cell_type": "code",
      "metadata": {
        "id": "hS0SbR83UDMZ"
      },
      "source": [
        "# Count number of times each item appears\n",
        "iid_counts = {}\n",
        "for seq in filtered_session:\n",
        "    for iid in seq:\n",
        "        if iid[1] in iid_counts:\n",
        "            iid_counts[iid[1]] += 1\n",
        "        else:\n",
        "            iid_counts[iid[1]] = 1\n",
        "\n",
        "sorted_counts = sorted(iid_counts.items(), key=operator.itemgetter(1))\n"
      ],
      "execution_count": null,
      "outputs": []
    },
    {
      "cell_type": "code",
      "metadata": {
        "id": "j4oA4w05lyfH"
      },
      "source": [
        "final_session = []\n",
        "for curseq in filtered_session:\n",
        "    filseq = list(filter(lambda i: iid_counts[i[1]] >= 10, curseq))\n",
        "    if len(filseq) < 2:\n",
        "        continue\n",
        "    else:\n",
        "        final_session.append(filseq)"
      ],
      "execution_count": null,
      "outputs": []
    },
    {
      "cell_type": "code",
      "metadata": {
        "id": "EhhCMLlAmyyB"
      },
      "source": [
        "maxdate = final_session[0][0][0]\n",
        "\n",
        "for s in final_session:\n",
        "    for item in s:\n",
        "        if maxdate < item[0]:\n",
        "            maxdate = item[0]"
      ],
      "execution_count": null,
      "outputs": []
    },
    {
      "cell_type": "code",
      "metadata": {
        "id": "tYABb1rqn5Cy"
      },
      "source": [
        "#last two years as test\n",
        "split_date = maxdate - 86400 * 730"
      ],
      "execution_count": null,
      "outputs": []
    },
    {
      "cell_type": "code",
      "metadata": {
        "id": "Pm-Ial3un5HU"
      },
      "source": [
        "train_sess = filter(lambda x: x[-1][0] < split_date, final_session)\n",
        "test_sess = filter(lambda x: x[-1][0] > split_date, final_session)\n",
        "train_sess = sorted(train_sess, key=operator.itemgetter(1))\n",
        "test_sess = sorted(test_sess, key=operator.itemgetter(1))"
      ],
      "execution_count": null,
      "outputs": []
    },
    {
      "cell_type": "code",
      "metadata": {
        "id": "lXm-nE2JpK9X"
      },
      "source": [
        "# Choosing item count >=5 gives approximately the same number of items as reported in paper\n",
        "item_dict = {}\n",
        "item_ctr = 1\n",
        "train_seqs = []\n",
        "# Convert training sessions to sequences and renumber items to start from 1\n",
        "for seq in train_sess:\n",
        "    outseq = []\n",
        "    for i in seq:\n",
        "        if i[1] in item_dict:\n",
        "            outseq += [item_dict[i[1]]]\n",
        "        else:\n",
        "            outseq += [item_ctr]\n",
        "            item_dict[i[1]] = item_ctr\n",
        "            item_ctr += 1\n",
        "    if len(outseq) < 2:  # Doesn't occur\n",
        "        continue\n",
        "    train_seqs += [outseq]"
      ],
      "execution_count": null,
      "outputs": []
    },
    {
      "cell_type": "code",
      "metadata": {
        "id": "-nRs6H3Tp2WX"
      },
      "source": [
        "test_seqs = []\n",
        "# Convert test sessions to sequences, ignoring items that do not appear in training set\n",
        "for seq in test_sess:\n",
        "    outseq = []\n",
        "    for i in seq:\n",
        "        if i[1] in item_dict:\n",
        "            outseq += [item_dict[i[1]]]\n",
        "    if len(outseq) < 2:\n",
        "        continue\n",
        "    test_seqs += [outseq]"
      ],
      "execution_count": null,
      "outputs": []
    },
    {
      "cell_type": "code",
      "metadata": {
        "id": "lsAFJxurqLiD"
      },
      "source": [
        "def process_seqs(iseqs):\n",
        "    out_seqs = []\n",
        "    labs = []\n",
        "    for seq in iseqs:\n",
        "        for i in range(1, len(seq)):\n",
        "            tar = seq[-i]\n",
        "            labs += [tar]\n",
        "            out_seqs += [seq[:-i]]\n",
        "\n",
        "    return out_seqs, labs\n",
        "\n",
        "\n",
        "tr_seqs, tr_labs = process_seqs(train_seqs)\n",
        "te_seqs, te_labs = process_seqs(test_seqs)\n",
        "\n",
        "train = (tr_seqs, tr_labs)\n",
        "test = (te_seqs, te_labs)"
      ],
      "execution_count": null,
      "outputs": []
    },
    {
      "cell_type": "code",
      "metadata": {
        "colab": {
          "base_uri": "https://localhost:8080/"
        },
        "id": "DwFHs7VUqjwe",
        "outputId": "8e1b1ec2-a565-466e-ab70-088d00ec2dca"
      },
      "source": [
        "f1 = open('./movie_train.pkl', 'wb')\n",
        "pickle.dump(train, f1)\n",
        "f1.close()\n",
        "f2 = open('./movie_test.pkl', 'wb')\n",
        "pickle.dump(test, f2)\n",
        "f2.close()\n",
        "\n",
        "print('Done.') "
      ],
      "execution_count": null,
      "outputs": [
        {
          "output_type": "stream",
          "name": "stdout",
          "text": [
            "Done.\n"
          ]
        }
      ]
    },
    {
      "cell_type": "code",
      "metadata": {
        "id": "ElYqrMEqGAfu"
      },
      "source": [
        "genre_dic = {}\n",
        "genre_index = 1\n",
        "\n",
        "movie_strid_to_genres = {}\n",
        "with open('movies.dat') as f:\n",
        "    lines = f.readlines()\n",
        "for line in lines:\n",
        "    data = line.strip().split(\"::\")\n",
        "    movie_id = data[0]\n",
        "    genres_string = data[2].split(\"|\")\n",
        "    genres = []\n",
        "    for s in genres_string:\n",
        "        if s not in genre_dic:\n",
        "            genre_dic[s] = genre_index\n",
        "            genre_index += 1\n",
        "        genres.append(genre_dic[s])\n",
        "    genres = np.array(genres)\n",
        "    movie_strid_to_genres[movie_id] = genres"
      ],
      "execution_count": null,
      "outputs": []
    },
    {
      "cell_type": "code",
      "metadata": {
        "id": "mbw_J3yzPdoI"
      },
      "source": [
        "movie_intid_to_genres = {}\n",
        "for string in item_dict.keys():\n",
        "    movie_intid_to_genres[item_dict[string]] = movie_strid_to_genres[string]"
      ],
      "execution_count": null,
      "outputs": []
    },
    {
      "cell_type": "code",
      "metadata": {
        "id": "4tFBIDNaPr1K"
      },
      "source": [
        "f2 = open('./movie_side.pkl', 'wb')\n",
        "pickle.dump(movie_intid_to_genres, f2)\n",
        "f2.close()\n",
        "movie_intid_to_genres\n"
      ],
      "execution_count": null,
      "outputs": []
    }
  ]
}