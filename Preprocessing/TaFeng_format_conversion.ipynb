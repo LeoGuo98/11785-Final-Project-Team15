{
  "nbformat": 4,
  "nbformat_minor": 0,
  "metadata": {
    "colab": {
      "name": "TaFeng_format_conversion.ipynb",
      "provenance": []
    },
    "kernelspec": {
      "name": "python3",
      "display_name": "Python 3"
    },
    "language_info": {
      "name": "python"
    }
  },
  "cells": [
    {
      "cell_type": "code",
      "metadata": {
        "id": "g2jSJIJ0s1zY"
      },
      "source": [
        "with open('/content/preprocessed_id_train.txt') as f:\n",
        "    lines = f.readlines()\n",
        "train_sessions = []\n",
        "train_labels = []\n",
        "for line in lines:\n",
        "    seq = eval(line[:line.index(\"|\")])\n",
        "    lab = eval(line[line.index(\"|\") + 1:])[0]\n",
        "    train_sessions.append(seq)\n",
        "    train_labels.append(lab)"
      ],
      "execution_count": null,
      "outputs": []
    },
    {
      "cell_type": "code",
      "metadata": {
        "id": "4drt14N45jW6"
      },
      "source": [
        "with open('/content/preprocessed_id_test.txt') as f:\n",
        "    lines = f.readlines()\n",
        "test_sessions = []\n",
        "test_labels = []\n",
        "for line in lines:\n",
        "    seq = eval(line[:line.index(\"|\")])\n",
        "    lab = eval(line[line.index(\"|\") + 1:])[0]\n",
        "    test_sessions.append(seq)\n",
        "    test_labels.append(lab)"
      ],
      "execution_count": null,
      "outputs": []
    },
    {
      "cell_type": "code",
      "metadata": {
        "id": "CGSUe2ny5d85"
      },
      "source": [
        "train = (train_sessions, train_labels)\n",
        "test = (test_sessions, test_labels)"
      ],
      "execution_count": null,
      "outputs": []
    },
    {
      "cell_type": "code",
      "metadata": {
        "colab": {
          "base_uri": "https://localhost:8080/"
        },
        "id": "_IyljZwP5_w9",
        "outputId": "09e49917-ca82-48d2-ab23-43a5924a2048"
      },
      "source": [
        "import pickle\n",
        "f1 = open('./tafeng_train.pkl', 'wb')\n",
        "pickle.dump(train, f1)\n",
        "f1.close()\n",
        "f2 = open('./tafeng_test.pkl', 'wb')\n",
        "pickle.dump(test, f2)\n",
        "f2.close()\n",
        "\n",
        "print('Done.') "
      ],
      "execution_count": null,
      "outputs": [
        {
          "output_type": "stream",
          "name": "stdout",
          "text": [
            "Done.\n"
          ]
        }
      ]
    },
    {
      "cell_type": "code",
      "metadata": {
        "id": "XN_zYHMQfiyz"
      },
      "source": [
        "with open('/content/tafeng_side_info_train.txt') as f:\n",
        "    lines = f.readlines()\n",
        "train_sessions = []\n",
        "train_labels = []\n",
        "for line in lines:\n",
        "    seq = eval(line[:line.index(\"|\")])\n",
        "    lab = eval(line[line.index(\"|\") + 1:])[0]\n",
        "    train_sessions.append(seq)\n",
        "    train_labels.append(lab)"
      ],
      "execution_count": null,
      "outputs": []
    },
    {
      "cell_type": "code",
      "metadata": {
        "id": "ndpfimDlfjRg"
      },
      "source": [
        "with open('/content/tafeng_side_info_test.txt') as f:\n",
        "    lines = f.readlines()\n",
        "test_sessions = []\n",
        "test_labels = []\n",
        "for line in lines:\n",
        "    seq = eval(line[:line.index(\"|\")])\n",
        "    lab = eval(line[line.index(\"|\") + 1:])[0]\n",
        "    test_sessions.append(seq)\n",
        "    test_labels.append(lab)"
      ],
      "execution_count": null,
      "outputs": []
    },
    {
      "cell_type": "code",
      "metadata": {
        "id": "FsjkNupdflnU"
      },
      "source": [
        "train = (train_sessions, train_labels)\n",
        "test = (test_sessions, test_labels)"
      ],
      "execution_count": null,
      "outputs": []
    },
    {
      "cell_type": "code",
      "metadata": {
        "colab": {
          "base_uri": "https://localhost:8080/"
        },
        "id": "98Qtt8_rfm7h",
        "outputId": "b0b0dbd9-251d-4d0b-c12a-e6bde403b3a3"
      },
      "source": [
        "import pickle\n",
        "f1 = open('./tafeng_train_side.pkl', 'wb')\n",
        "pickle.dump(train, f1)\n",
        "f1.close()\n",
        "f2 = open('./tafeng_test_side.pkl', 'wb')\n",
        "pickle.dump(test, f2)\n",
        "f2.close()\n",
        "\n",
        "print('Done.') "
      ],
      "execution_count": null,
      "outputs": [
        {
          "output_type": "stream",
          "name": "stdout",
          "text": [
            "Done.\n"
          ]
        }
      ]
    }
  ]
}